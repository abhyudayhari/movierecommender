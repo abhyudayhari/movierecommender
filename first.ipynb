{
 "cells": [
  {
   "cell_type": "code",
   "execution_count": 1,
   "metadata": {},
   "outputs": [],
   "source": [
    "import numpy as np\n",
    "import pandas as pd\n",
    "from sklearn.metrics.pairwise import cosine_similarity\n",
    "import ast\n",
    "import math\n",
    "import nltk"
   ]
  },
  {
   "cell_type": "code",
   "execution_count": 2,
   "metadata": {},
   "outputs": [
    {
     "name": "stderr",
     "output_type": "stream",
     "text": [
      "C:\\Users\\abhyu\\AppData\\Local\\Temp\\ipykernel_9736\\897616549.py:2: DtypeWarning: Columns (10) have mixed types. Specify dtype option on import or set low_memory=False.\n",
      "  movies=pd.read_csv(r\"F:\\movie_recommendor\\movies_metadata.csv\")\n"
     ]
    }
   ],
   "source": [
    "credits=pd.read_csv(r\"F:\\movie_recommendor\\credits.csv\")\n",
    "movies=pd.read_csv(r\"F:\\movie_recommendor\\movies_metadata.csv\")\n",
    "ratings=pd.read_csv(r\"F:\\movie_recommendor\\ratings.csv\")\n"
   ]
  },
  {
   "cell_type": "code",
   "execution_count": 3,
   "metadata": {},
   "outputs": [],
   "source": [
    "credits[\"id\"]=credits[\"id\"].astype(\"str\")\n",
    "moviesall=movies.merge(credits,on=\"id\")\n",
    "moviesall=moviesall.fillna(\" \")\n",
    "moviesall.to_csv(\"moviesall.csv\",index=False)\n"
   ]
  },
  {
   "cell_type": "code",
   "execution_count": 4,
   "metadata": {},
   "outputs": [],
   "source": [
    "moviesall=moviesall.drop('spoken_languages',axis=1)\n",
    "moviesall=moviesall.drop('production_countries',axis=1)\n",
    "moviesall=moviesall.drop('budget',axis=1)\n",
    "moviesall[\"title1\"]=moviesall[\"title\"]\n",
    "\n"
   ]
  },
  {
   "cell_type": "code",
   "execution_count": 5,
   "metadata": {},
   "outputs": [],
   "source": [
    "def preprocessing(obj):\n",
    "    a=[]\n",
    "    count=0\n",
    "    if obj!=\" \":\n",
    "        for i in ast.literal_eval(obj):\n",
    "            if count!=3:\n",
    "                a.append(i[\"name\"])\n",
    "\n",
    "                count+=1\n",
    "            else:\n",
    "                break\n",
    "        return a \n",
    "    else:\n",
    "        return obj\n",
    "def preprocessing1(obj):\n",
    "    \n",
    "    a=[]\n",
    "    count=0\n",
    "    for i in ast.literal_eval(obj):\n",
    "        if count!=3:\n",
    "            a.append(i[\"name\"])\n",
    "            a.append(i[\"character\"])\n",
    "            count+=1\n",
    "        else:\n",
    "            break\n",
    "    return a \n",
    "def preprocessing2(obj):\n",
    "    for i in ast.literal_eval(obj):\n",
    "        if i[\"job\"]==\"Director\":\n",
    "            return [i['name']]\n",
    "    return [\"\"]\n",
    "        \n",
    "def preprocessing3(obj):\n",
    "    if obj!=' ':\n",
    "         return ast.literal_eval(obj)[\"name\"]\n",
    "    else:\n",
    "        return obj\n",
    "\n",
    "\n",
    "    \n",
    "    \n",
    "   "
   ]
  },
  {
   "cell_type": "code",
   "execution_count": 6,
   "metadata": {},
   "outputs": [
    {
     "name": "stderr",
     "output_type": "stream",
     "text": [
      "C:\\Users\\abhyu\\AppData\\Local\\Temp\\ipykernel_9736\\1900880400.py:6: SettingWithCopyWarning: \n",
      "A value is trying to be set on a copy of a slice from a DataFrame.\n",
      "Try using .loc[row_indexer,col_indexer] = value instead\n",
      "\n",
      "See the caveats in the documentation: https://pandas.pydata.org/pandas-docs/stable/user_guide/indexing.html#returning-a-view-versus-a-copy\n",
      "  moviesnew[\"overview\"]=moviesnew[\"overview\"].apply(lambda x:x.split())\n"
     ]
    }
   ],
   "source": [
    "moviesall[\"crew\"]=moviesall[\"crew\"].apply(preprocessing2)\n",
    "moviesall[\"belongs_to_collection\"]=moviesall[\"belongs_to_collection\"].apply(preprocessing3)\n",
    "moviesall[\"genres\"]=moviesall[\"genres\"].apply(preprocessing)\n",
    "moviesall[\"cast\"]=moviesall[\"cast\"].apply(preprocessing1)\n",
    "moviesnew=moviesall[[\"belongs_to_collection\",\"genres\",\"id\",\"imdb_id\",\"overview\",\"popularity\",\"production_companies\",\"title\",\"tagline\",\"vote_average\",\"vote_count\",\"crew\",\"cast\",\"adult\",\"title1\"]]\n",
    "moviesnew[\"overview\"]=moviesnew[\"overview\"].apply(lambda x:x.split())\n"
   ]
  },
  {
   "cell_type": "code",
   "execution_count": 7,
   "metadata": {},
   "outputs": [
    {
     "name": "stderr",
     "output_type": "stream",
     "text": [
      "C:\\Users\\abhyu\\AppData\\Local\\Temp\\ipykernel_16156\\4194663555.py:1: SettingWithCopyWarning: \n",
      "A value is trying to be set on a copy of a slice from a DataFrame.\n",
      "Try using .loc[row_indexer,col_indexer] = value instead\n",
      "\n",
      "See the caveats in the documentation: https://pandas.pydata.org/pandas-docs/stable/user_guide/indexing.html#returning-a-view-versus-a-copy\n",
      "  moviesnew[\"title\"]=moviesnew[\"title\"].apply(lambda x:x.split())\n",
      "C:\\Users\\abhyu\\AppData\\Local\\Temp\\ipykernel_16156\\4194663555.py:2: SettingWithCopyWarning: \n",
      "A value is trying to be set on a copy of a slice from a DataFrame.\n",
      "Try using .loc[row_indexer,col_indexer] = value instead\n",
      "\n",
      "See the caveats in the documentation: https://pandas.pydata.org/pandas-docs/stable/user_guide/indexing.html#returning-a-view-versus-a-copy\n",
      "  moviesnew[\"tagline\"]=moviesnew[\"tagline\"].apply(lambda x:x.split())\n",
      "C:\\Users\\abhyu\\AppData\\Local\\Temp\\ipykernel_16156\\4194663555.py:3: SettingWithCopyWarning: \n",
      "A value is trying to be set on a copy of a slice from a DataFrame.\n",
      "Try using .loc[row_indexer,col_indexer] = value instead\n",
      "\n",
      "See the caveats in the documentation: https://pandas.pydata.org/pandas-docs/stable/user_guide/indexing.html#returning-a-view-versus-a-copy\n",
      "  moviesnew[\"belongs_to_collection\"]=moviesnew[\"belongs_to_collection\"].apply(lambda x:x.split())\n"
     ]
    }
   ],
   "source": [
    "moviesnew[\"title\"]=moviesnew[\"title\"].apply(lambda x:x.split())\n",
    "moviesnew[\"tagline\"]=moviesnew[\"tagline\"].apply(lambda x:x.split())\n",
    "moviesnew[\"belongs_to_collection\"]=moviesnew[\"belongs_to_collection\"].apply(lambda x:x.split())"
   ]
  },
  {
   "cell_type": "code",
   "execution_count": 8,
   "metadata": {},
   "outputs": [
    {
     "name": "stderr",
     "output_type": "stream",
     "text": [
      "C:\\Users\\abhyu\\AppData\\Local\\Temp\\ipykernel_16156\\3197859161.py:1: SettingWithCopyWarning: \n",
      "A value is trying to be set on a copy of a slice from a DataFrame.\n",
      "Try using .loc[row_indexer,col_indexer] = value instead\n",
      "\n",
      "See the caveats in the documentation: https://pandas.pydata.org/pandas-docs/stable/user_guide/indexing.html#returning-a-view-versus-a-copy\n",
      "  moviesnew[\"belongs_to_collection\"]=moviesnew[\"belongs_to_collection\"].apply(lambda x:[i.replace(\" \",\"\") for i in x])\n",
      "C:\\Users\\abhyu\\AppData\\Local\\Temp\\ipykernel_16156\\3197859161.py:2: SettingWithCopyWarning: \n",
      "A value is trying to be set on a copy of a slice from a DataFrame.\n",
      "Try using .loc[row_indexer,col_indexer] = value instead\n",
      "\n",
      "See the caveats in the documentation: https://pandas.pydata.org/pandas-docs/stable/user_guide/indexing.html#returning-a-view-versus-a-copy\n",
      "  moviesnew[\"genres\"]=moviesnew[\"genres\"].apply(lambda x:[i.replace(\" \",\"\") for i in x])\n",
      "C:\\Users\\abhyu\\AppData\\Local\\Temp\\ipykernel_16156\\3197859161.py:3: SettingWithCopyWarning: \n",
      "A value is trying to be set on a copy of a slice from a DataFrame.\n",
      "Try using .loc[row_indexer,col_indexer] = value instead\n",
      "\n",
      "See the caveats in the documentation: https://pandas.pydata.org/pandas-docs/stable/user_guide/indexing.html#returning-a-view-versus-a-copy\n",
      "  moviesnew[\"overview\"]=moviesnew[\"overview\"].apply(lambda x:[i.replace(\" \",\"\") for i in x])\n",
      "C:\\Users\\abhyu\\AppData\\Local\\Temp\\ipykernel_16156\\3197859161.py:4: SettingWithCopyWarning: \n",
      "A value is trying to be set on a copy of a slice from a DataFrame.\n",
      "Try using .loc[row_indexer,col_indexer] = value instead\n",
      "\n",
      "See the caveats in the documentation: https://pandas.pydata.org/pandas-docs/stable/user_guide/indexing.html#returning-a-view-versus-a-copy\n",
      "  moviesnew[\"title\"]=moviesnew[\"title\"].apply(lambda x:[i.replace(\" \",\"\") for i in x])\n",
      "C:\\Users\\abhyu\\AppData\\Local\\Temp\\ipykernel_16156\\3197859161.py:5: SettingWithCopyWarning: \n",
      "A value is trying to be set on a copy of a slice from a DataFrame.\n",
      "Try using .loc[row_indexer,col_indexer] = value instead\n",
      "\n",
      "See the caveats in the documentation: https://pandas.pydata.org/pandas-docs/stable/user_guide/indexing.html#returning-a-view-versus-a-copy\n",
      "  moviesnew[\"tagline\"]=moviesnew[\"tagline\"].apply(lambda x:[i.replace(\" \",\"\") for i in x])\n",
      "C:\\Users\\abhyu\\AppData\\Local\\Temp\\ipykernel_16156\\3197859161.py:6: SettingWithCopyWarning: \n",
      "A value is trying to be set on a copy of a slice from a DataFrame.\n",
      "Try using .loc[row_indexer,col_indexer] = value instead\n",
      "\n",
      "See the caveats in the documentation: https://pandas.pydata.org/pandas-docs/stable/user_guide/indexing.html#returning-a-view-versus-a-copy\n",
      "  moviesnew[\"crew\"]=moviesnew[\"crew\"].apply(lambda x:[i.replace(\" \",\"\") for i in x])\n",
      "C:\\Users\\abhyu\\AppData\\Local\\Temp\\ipykernel_16156\\3197859161.py:7: SettingWithCopyWarning: \n",
      "A value is trying to be set on a copy of a slice from a DataFrame.\n",
      "Try using .loc[row_indexer,col_indexer] = value instead\n",
      "\n",
      "See the caveats in the documentation: https://pandas.pydata.org/pandas-docs/stable/user_guide/indexing.html#returning-a-view-versus-a-copy\n",
      "  moviesnew[\"cast\"]=moviesnew[\"cast\"].apply(lambda x:[i.replace(\" \",\"\") for i in x])\n"
     ]
    }
   ],
   "source": [
    "moviesnew[\"belongs_to_collection\"]=moviesnew[\"belongs_to_collection\"].apply(lambda x:[i.replace(\" \",\"\") for i in x])\n",
    "moviesnew[\"genres\"]=moviesnew[\"genres\"].apply(lambda x:[i.replace(\" \",\"\") for i in x])\n",
    "moviesnew[\"overview\"]=moviesnew[\"overview\"].apply(lambda x:[i.replace(\" \",\"\") for i in x])\n",
    "moviesnew[\"title\"]=moviesnew[\"title\"].apply(lambda x:[i.replace(\" \",\"\") for i in x])\n",
    "moviesnew[\"tagline\"]=moviesnew[\"tagline\"].apply(lambda x:[i.replace(\" \",\"\") for i in x])\n",
    "moviesnew[\"crew\"]=moviesnew[\"crew\"].apply(lambda x:[i.replace(\" \",\"\") for i in x])\n",
    "moviesnew[\"cast\"]=moviesnew[\"cast\"].apply(lambda x:[i.replace(\" \",\"\") for i in x])"
   ]
  },
  {
   "cell_type": "code",
   "execution_count": 9,
   "metadata": {},
   "outputs": [
    {
     "name": "stderr",
     "output_type": "stream",
     "text": [
      "C:\\Users\\abhyu\\AppData\\Local\\Temp\\ipykernel_16156\\3611071775.py:1: SettingWithCopyWarning: \n",
      "A value is trying to be set on a copy of a slice from a DataFrame.\n",
      "Try using .loc[row_indexer,col_indexer] = value instead\n",
      "\n",
      "See the caveats in the documentation: https://pandas.pydata.org/pandas-docs/stable/user_guide/indexing.html#returning-a-view-versus-a-copy\n",
      "  moviesnew[\"tag\"]=moviesnew[\"genres\"]+moviesnew[\"belongs_to_collection\"]+moviesnew[\"overview\"]+moviesnew[\"title\"]+moviesnew[\"tagline\"]+moviesnew[\"crew\"]+moviesnew[\"cast\"]\n"
     ]
    }
   ],
   "source": [
    "moviesnew[\"tag\"]=moviesnew[\"genres\"]+moviesnew[\"belongs_to_collection\"]+moviesnew[\"overview\"]+moviesnew[\"title\"]+moviesnew[\"tagline\"]+moviesnew[\"crew\"]+moviesnew[\"cast\"]"
   ]
  },
  {
   "cell_type": "code",
   "execution_count": 10,
   "metadata": {},
   "outputs": [],
   "source": [
    "import nltk\n",
    "from nltk.stem.porter import PorterStemmer\n",
    "ps=PorterStemmer()\n",
    "def stem(text):\n",
    "    y=[]\n",
    "    for i in text.split():\n",
    "        y.append(ps.stem(i))\n",
    "    return \" \".join(y)"
   ]
  },
  {
   "cell_type": "code",
   "execution_count": 12,
   "metadata": {},
   "outputs": [
    {
     "name": "stderr",
     "output_type": "stream",
     "text": [
      "C:\\Users\\abhyu\\AppData\\Local\\Temp\\ipykernel_16156\\1705346979.py:1: SettingWithCopyWarning: \n",
      "A value is trying to be set on a copy of a slice from a DataFrame.\n",
      "Try using .loc[row_indexer,col_indexer] = value instead\n",
      "\n",
      "See the caveats in the documentation: https://pandas.pydata.org/pandas-docs/stable/user_guide/indexing.html#returning-a-view-versus-a-copy\n",
      "  moviesnew['tag']=moviesnew['tag'].apply(lambda x:\" \".join(x))\n"
     ]
    }
   ],
   "source": [
    "moviesnew['tag']=moviesnew['tag'].apply(lambda x:\" \".join(x))\n",
    "moviesnew.to_csv(\"moviesnew.csv\",index=False)\n",
    "new_ds=new_ds=moviesnew[[\"id\",\"tag\",'title1']]\n",
    "new_ds.to_csv(\"new_ds.csv\",index=False)"
   ]
  },
  {
   "cell_type": "code",
   "execution_count": 12,
   "metadata": {},
   "outputs": [
    {
     "name": "stderr",
     "output_type": "stream",
     "text": [
      "C:\\Users\\abhyu\\AppData\\Local\\Temp\\ipykernel_15024\\2569625649.py:1: SettingWithCopyWarning: \n",
      "A value is trying to be set on a copy of a slice from a DataFrame.\n",
      "Try using .loc[row_indexer,col_indexer] = value instead\n",
      "\n",
      "See the caveats in the documentation: https://pandas.pydata.org/pandas-docs/stable/user_guide/indexing.html#returning-a-view-versus-a-copy\n",
      "  moviesnew['tag']=moviesnew['tag'].apply(stem)\n"
     ]
    }
   ],
   "source": [
    "moviesnew['tag']=moviesnew['tag'].apply(stem)"
   ]
  },
  {
   "cell_type": "code",
   "execution_count": 13,
   "metadata": {},
   "outputs": [
    {
     "name": "stderr",
     "output_type": "stream",
     "text": [
      "C:\\Users\\abhyu\\AppData\\Local\\Temp\\ipykernel_15024\\397672902.py:1: SettingWithCopyWarning: \n",
      "A value is trying to be set on a copy of a slice from a DataFrame.\n",
      "Try using .loc[row_indexer,col_indexer] = value instead\n",
      "\n",
      "See the caveats in the documentation: https://pandas.pydata.org/pandas-docs/stable/user_guide/indexing.html#returning-a-view-versus-a-copy\n",
      "  moviesnew['tag']=moviesnew['tag'].apply(lambda x:x.lower())\n"
     ]
    }
   ],
   "source": [
    "moviesnew['tag']=moviesnew['tag'].apply(lambda x:x.lower())"
   ]
  },
  {
   "cell_type": "code",
   "execution_count": 14,
   "metadata": {},
   "outputs": [],
   "source": [
    "from sklearn.feature_extraction.text import CountVectorizer\n",
    "cv=CountVectorizer(max_features=6000,stop_words=\"english\")\n",
    "vectors=cv.fit_transform(moviesnew[\"tag\"]).toarray()\n"
   ]
  },
  {
   "cell_type": "code",
   "execution_count": 15,
   "metadata": {},
   "outputs": [],
   "source": [
    "from sklearn.metrics.pairwise import cosine_similarity\n",
    "similarity=cosine_similarity(vectors)\n"
   ]
  },
  {
   "cell_type": "code",
   "execution_count": 16,
   "metadata": {},
   "outputs": [],
   "source": [
    "np.save('similaritybwmovies.npy',similarity)"
   ]
  },
  {
   "cell_type": "code",
   "execution_count": 3,
   "metadata": {},
   "outputs": [],
   "source": [
    "from surprise import Reader,Dataset,SVD\n",
    "from surprise.model_selection import cross_validate\n",
    "reader=Reader()\n",
    "data = Dataset.load_from_df(ratings[['userId', 'movieId', 'rating']], reader)\n"
   ]
  },
  {
   "cell_type": "code",
   "execution_count": 4,
   "metadata": {},
   "outputs": [
    {
     "data": {
      "text/plain": [
       "<generator object KFold.split at 0x000001E3AA4B2120>"
      ]
     },
     "execution_count": 4,
     "metadata": {},
     "output_type": "execute_result"
    }
   ],
   "source": [
    "from surprise.model_selection import KFold\n",
    "kf = KFold(n_splits=2000)\n",
    "kf.split(data)\n"
   ]
  },
  {
   "cell_type": "code",
   "execution_count": null,
   "metadata": {},
   "outputs": [],
   "source": [
    "del similarity"
   ]
  },
  {
   "cell_type": "code",
   "execution_count": 5,
   "metadata": {},
   "outputs": [
    {
     "data": {
      "text/plain": [
       "<surprise.prediction_algorithms.matrix_factorization.SVD at 0x1e3a8fa95b0>"
      ]
     },
     "execution_count": 5,
     "metadata": {},
     "output_type": "execute_result"
    }
   ],
   "source": [
    "svd=SVD()\n",
    "set1=data.build_full_trainset()\n",
    "svd.fit(set1)\n"
   ]
  },
  {
   "cell_type": "code",
   "execution_count": 7,
   "metadata": {},
   "outputs": [
    {
     "data": {
      "text/plain": [
       "['svd_model.pkl']"
      ]
     },
     "execution_count": 7,
     "metadata": {},
     "output_type": "execute_result"
    }
   ],
   "source": [
    "import joblib\n",
    "joblib.dump(svd,'svd_model.pkl')"
   ]
  },
  {
   "cell_type": "code",
   "execution_count": null,
   "metadata": {},
   "outputs": [
    {
     "data": {
      "text/plain": [
       "(45538, 250)"
      ]
     },
     "execution_count": 28,
     "metadata": {},
     "output_type": "execute_result"
    }
   ],
   "source": [
    "np.shape(vectors)"
   ]
  },
  {
   "cell_type": "code",
   "execution_count": null,
   "metadata": {},
   "outputs": [],
   "source": []
  }
 ],
 "metadata": {
  "kernelspec": {
   "display_name": "base",
   "language": "python",
   "name": "python3"
  },
  "language_info": {
   "codemirror_mode": {
    "name": "ipython",
    "version": 3
   },
   "file_extension": ".py",
   "mimetype": "text/x-python",
   "name": "python",
   "nbconvert_exporter": "python",
   "pygments_lexer": "ipython3",
   "version": "3.9.13"
  },
  "orig_nbformat": 4
 },
 "nbformat": 4,
 "nbformat_minor": 2
}

{
 "cells": [
  {
   "cell_type": "code",
   "execution_count": 2,
   "metadata": {},
   "outputs": [],
   "source": [
    "import numpy as np\n",
    "import pandas as pd\n",
    "from sklearn.metrics.pairwise import cosine_similarity\n",
    "import ast\n",
    "import math\n",
    "import nltk\n",
    "import joblib\n",
    "from surprise import Reader,Dataset,SVD"
   ]
  },
  {
   "cell_type": "code",
   "execution_count": 4,
   "metadata": {},
   "outputs": [],
   "source": [
    "new_ds=pd.read_csv(\"new_ds.csv\")\n",
    "svd=joblib.load('svd_model.pkl')\n",
    "ratings=pd.read_csv(r\"F:\\movie_recommendor\\ratings.csv\")"
   ]
  },
  {
   "cell_type": "code",
   "execution_count": 8,
   "metadata": {},
   "outputs": [],
   "source": [
    "def recommendonmovie(movie):\n",
    "    similarity=np.load('similaritybwmovies.npy')\n",
    "    movie_index=new_ds[new_ds[\"title1\"]==movie].index[0]\n",
    "    distances=similarity[movie_index]\n",
    "    movies_list=sorted(list(enumerate(distances)),reverse=True,key=lambda x:x[1])[1:11]\n",
    "    for i in movies_list:\n",
    "        print(new_ds.iloc[i[0]].title1)\n",
    "    "
   ]
  },
  {
   "cell_type": "code",
   "execution_count": 14,
   "metadata": {},
   "outputs": [],
   "source": [
    "def del_variable(variable1):\n",
    "    del variable1\n",
    "del_variable(svd)"
   ]
  },
  {
   "cell_type": "code",
   "execution_count": 5,
   "metadata": {},
   "outputs": [],
   "source": [
    "def get_best_movies(obj,id,obj1):\n",
    "    movieid=obj1['id'].unique()\n",
    "    l=[]\n",
    "    b=[]\n",
    "    for movie in movieid:\n",
    "        result=svd.predict(id,movie)\n",
    "        estimation=result[3]\n",
    "        b.append((movie,estimation))\n",
    "    return b"
   ]
  },
  {
   "cell_type": "code",
   "execution_count": null,
   "metadata": {},
   "outputs": [],
   "source": []
  },
  {
   "cell_type": "code",
   "execution_count": 6,
   "metadata": {},
   "outputs": [],
   "source": [
    "def get_recommendations(userid):\n",
    "    predictions=get_best_movies(ratings,userid,new_ds)\n",
    "    lis=[]\n",
    "    sorted_predictions=sorted(predictions,key=lambda x:x[1],reverse=True)\n",
    "    sorted_predictions=sorted_predictions[0:10]\n",
    "    \n",
    "    for i in sorted_predictions:\n",
    "        specific_row =new_ds[new_ds[\"id\"]==i[0]]['title1'].values[0]\n",
    "        print(specific_row)\n",
    "        "
   ]
  },
  {
   "cell_type": "code",
   "execution_count": 7,
   "metadata": {},
   "outputs": [
    {
     "name": "stdout",
     "output_type": "stream",
     "text": [
      "Once Were Warriors\n",
      "Three Colors: Red\n",
      "Poetic Justice\n",
      "Sleepless in Seattle\n",
      "The 39 Steps\n",
      "Batman Returns\n",
      "Prom Night III: The Last Kiss\n",
      "Young and Innocent\n",
      "Say Anything...\n",
      "Orgazmo\n"
     ]
    }
   ],
   "source": [
    "get_recommendations(500)"
   ]
  },
  {
   "cell_type": "code",
   "execution_count": 9,
   "metadata": {},
   "outputs": [
    {
     "name": "stdout",
     "output_type": "stream",
     "text": [
      "Liar Game: Reborn\n",
      "Table No. 21\n",
      "The Games Maker\n",
      "Beta Test\n",
      "Indie Game: The Movie\n",
      "Brainscan\n",
      "Ender's Game\n",
      "Word Wars\n",
      "Geri's Game\n",
      "Dungeons & Dragons\n"
     ]
    }
   ],
   "source": [
    "recommendonmovie('Jumanji')"
   ]
  },
  {
   "cell_type": "code",
   "execution_count": 39,
   "metadata": {},
   "outputs": [],
   "source": [
    "moviesnew=pd.read_csv(r\"F:\\movie_recommendor\\moviesnew.csv\")"
   ]
  },
  {
   "attachments": {},
   "cell_type": "markdown",
   "metadata": {},
   "source": []
  },
  {
   "cell_type": "code",
   "execution_count": 40,
   "metadata": {},
   "outputs": [],
   "source": [
    "moviesnew['tag']=moviesnew['tag'].apply(lambda x:x.replace(\" \",''))\n",
    "moviesnew['tag']=moviesnew['tag'].apply(lambda x:x.lower())"
   ]
  },
  {
   "cell_type": "code",
   "execution_count": 129,
   "metadata": {},
   "outputs": [],
   "source": [
    "def search(keywords):\n",
    "    \n",
    "    keywords=keywords.lower()\n",
    "    keywords=keywords.split()\n",
    "  \n",
    "    # Filter the DataFrame based on the keywords\n",
    "    filtered_rows = []\n",
    "    for index, row in moviesnew.iterrows():\n",
    "        text = row['tag']\n",
    "        \n",
    "        if all(re.search(keyword, text) for keyword in keywords):\n",
    "            filtered_rows.append(row)\n",
    "        \n",
    "        \n",
    "\n",
    "    filtered_df = pd.DataFrame(filtered_rows)\n",
    "\n",
    "    filtered_df=filtered_df.sort_values(by='vote_average',ascending=False)\n",
    "    # Print the filtered DataFrame\n",
    "    print(filtered_df['id'].head(25))\n"
   ]
  },
  {
   "cell_type": "code",
   "execution_count": 130,
   "metadata": {},
   "outputs": [
    {
     "name": "stdout",
     "output_type": "stream",
     "text": [
      "25823    288581\n",
      "26804      1260\n",
      "17030     46105\n",
      "13781     14160\n",
      "30980     53211\n",
      "0           862\n",
      "30773     53220\n",
      "1119        531\n",
      "15413     10193\n",
      "4773        585\n",
      "730         532\n",
      "34130    101806\n",
      "8623      13187\n",
      "43290     72215\n",
      "11612      2062\n",
      "14444     10315\n",
      "41981     56828\n",
      "27636     83746\n",
      "25869    130925\n",
      "30928     16390\n",
      "581         812\n",
      "24974     17234\n",
      "22000    213121\n",
      "26370     45752\n",
      "8774       9385\n",
      "Name: id, dtype: int64\n"
     ]
    }
   ],
   "source": [
    "search(\"animation comedy family\")\n"
   ]
  },
  {
   "cell_type": "code",
   "execution_count": null,
   "metadata": {},
   "outputs": [],
   "source": [
    "def create_a_user():\n",
    "    #31% content based\n",
    "    #69% item-item\n",
    "    "
   ]
  }
 ],
 "metadata": {
  "kernelspec": {
   "display_name": "base",
   "language": "python",
   "name": "python3"
  },
  "language_info": {
   "codemirror_mode": {
    "name": "ipython",
    "version": 3
   },
   "file_extension": ".py",
   "mimetype": "text/x-python",
   "name": "python",
   "nbconvert_exporter": "python",
   "pygments_lexer": "ipython3",
   "version": "3.9.13"
  },
  "orig_nbformat": 4
 },
 "nbformat": 4,
 "nbformat_minor": 2
}
